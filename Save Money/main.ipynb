{
 "cells": [
  {
   "cell_type": "code",
   "execution_count": 14,
   "metadata": {},
   "outputs": [],
   "source": [
    "import search as search"
   ]
  },
  {
   "cell_type": "code",
   "execution_count": 15,
   "metadata": {},
   "outputs": [],
   "source": [
    "brand = input(\"Enter coffee brand: \")\n",
    "size = input(\"Enter coffee size: \")\n",
    "coffee = input(\"Enter coffee type: \")\n",
    "\n",
    "search_target = brand + \" \" + size + \" \" + coffee"
   ]
  },
  {
   "cell_type": "code",
   "execution_count": 17,
   "metadata": {},
   "outputs": [
    {
     "name": "stdout",
     "output_type": "stream",
     "text": [
      "No result found\n"
     ]
    }
   ],
   "source": [
    "result = search.google_search(search_target)\n",
    "\n",
    "if result: \n",
    "    title = result[\"title\"]\n",
    "    price = result[\"price\"]\n",
    "    link = result[\"link\"]\n",
    "    \n",
    "    print(\"Title: \" + title)\n",
    "    print(\"Price: \" + price)\n",
    "    print(\"Link: \" + link)\n"
   ]
  },
  {
   "cell_type": "code",
   "execution_count": null,
   "metadata": {},
   "outputs": [],
   "source": []
  }
 ],
 "metadata": {
  "kernelspec": {
   "display_name": "Python 3",
   "language": "python",
   "name": "python3"
  },
  "language_info": {
   "codemirror_mode": {
    "name": "ipython",
    "version": 3
   },
   "file_extension": ".py",
   "mimetype": "text/x-python",
   "name": "python",
   "nbconvert_exporter": "python",
   "pygments_lexer": "ipython3",
   "version": "3.11.3"
  }
 },
 "nbformat": 4,
 "nbformat_minor": 2
}
