{
 "cells": [
  {
   "cell_type": "code",
   "execution_count": 18,
   "metadata": {},
   "outputs": [],
   "source": [
    "import web_search as search"
   ]
  },
  {
   "cell_type": "code",
   "execution_count": 19,
   "metadata": {},
   "outputs": [],
   "source": [
    "search_target = \"coffee machine\""
   ]
  },
  {
   "cell_type": "code",
   "execution_count": null,
   "metadata": {},
   "outputs": [
    {
     "name": "stdout",
     "output_type": "stream",
     "text": [
      "{'title': 'Coffee & Espresso Makers', 'price': 'Not found', 'link': 'https://www.costco.ca/coffee-espresso-makers.html'}\n"
     ]
    }
   ],
   "source": [
    "# search for coffee price\n",
    "\n",
    "brand = input(\"Enter coffee brand: \")\n",
    "size = input(\"Enter coffee size: \")\n",
    "coffee = input(\"Enter coffee type: \")\n",
    "\n",
    "search_target = brand + \" \" + size + \" \" + coffee\n",
    "\n",
    "result = search.google_search(search_target)\n",
    "\n",
    "if result: \n",
    "    title = result[\"title\"]\n",
    "    price = result[\"price\"]\n",
    "    link = result[\"link\"]\n",
    "    \n",
    "    print(\"Title: \" + title)\n",
    "    print(\"Price: \" + price)\n",
    "    print(\"Link: \" + link)\n"
   ]
  },
  {
   "cell_type": "code",
   "execution_count": null,
   "metadata": {},
   "outputs": [],
   "source": []
  }
 ],
 "metadata": {
  "kernelspec": {
   "display_name": "Python 3",
   "language": "python",
   "name": "python3"
  },
  "language_info": {
   "codemirror_mode": {
    "name": "ipython",
    "version": 3
   },
   "file_extension": ".py",
   "mimetype": "text/x-python",
   "name": "python",
   "nbconvert_exporter": "python",
   "pygments_lexer": "ipython3",
   "version": "3.11.3"
  }
 },
 "nbformat": 4,
 "nbformat_minor": 2
}
