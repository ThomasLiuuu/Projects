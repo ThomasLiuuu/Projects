{
 "cells": [
  {
   "cell_type": "code",
   "execution_count": 1,
   "metadata": {},
   "outputs": [],
   "source": [
    "import networkx as nx\n",
    "import pandas as pd\n",
    "from sqlalchemy import create_engine"
   ]
  },
  {
   "cell_type": "code",
   "execution_count": 2,
   "metadata": {},
   "outputs": [
    {
     "name": "stdout",
     "output_type": "stream",
     "text": [
      "  stop_id  stop_code                                    stop_name  stop_desc  \\\n",
      "0    1000     1000.0         Frederick Station (Frederick / King)        NaN   \n",
      "1    1001     1001.0  Frederick / Region Of Waterloo Headquarters        NaN   \n",
      "2    1002     1002.0                             Frederick / Otto        NaN   \n",
      "3    1003     1003.0                           Frederick / Samuel        NaN   \n",
      "4    1004     1004.0                           Frederick / Merner        NaN   \n",
      "\n",
      "    stop_lat   stop_lon  zone_id  \\\n",
      "0  43.449674 -80.487209      NaN   \n",
      "1  43.452334 -80.484195      NaN   \n",
      "2  43.453004 -80.482917      NaN   \n",
      "3  43.454834 -80.479514      NaN   \n",
      "4  43.456218 -80.476907      NaN   \n",
      "\n",
      "                                            stop_url  location_type  \\\n",
      "0  https://www.grt.ca/en/schedules-maps/platform-...              0   \n",
      "1                                                NaN              0   \n",
      "2                                                NaN              0   \n",
      "3                                                NaN              0   \n",
      "4                                                NaN              0   \n",
      "\n",
      "  parent_station  wheelchair_boarding  platform_code  \n",
      "0            NaN                  1.0            NaN  \n",
      "1            NaN                  1.0            NaN  \n",
      "2            NaN                  1.0            NaN  \n",
      "3            NaN                  1.0            NaN  \n",
      "4            NaN                  1.0            NaN  \n"
     ]
    }
   ],
   "source": [
    "df = pd.read_csv('./grt_data/stops.txt')\n",
    "print(df.head())"
   ]
  },
  {
   "cell_type": "code",
   "execution_count": null,
   "metadata": {},
   "outputs": [],
   "source": []
  }
 ],
 "metadata": {
  "kernelspec": {
   "display_name": "Python 3",
   "language": "python",
   "name": "python3"
  },
  "language_info": {
   "codemirror_mode": {
    "name": "ipython",
    "version": 3
   },
   "file_extension": ".py",
   "mimetype": "text/x-python",
   "name": "python",
   "nbconvert_exporter": "python",
   "pygments_lexer": "ipython3",
   "version": "3.11.3"
  }
 },
 "nbformat": 4,
 "nbformat_minor": 2
}
